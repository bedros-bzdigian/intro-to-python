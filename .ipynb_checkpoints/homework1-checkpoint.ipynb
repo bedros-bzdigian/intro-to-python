{
 "cells": [
  {
   "cell_type": "code",
   "execution_count": 6,
   "metadata": {},
   "outputs": [
    {
     "name": "stdout",
     "output_type": "stream",
     "text": [
      "d = 1003\n",
      "f= 852\n"
     ]
    }
   ],
   "source": [
    "a = 15\n",
    "b = 8\n",
    "c = 2\n",
    "d = 5*(a**2) - a*b + (a%2) - a/5\n",
    "print (\"d =\",int (d))\n",
    "f = b**3 + 3*a*b - 10*c\n",
    "print (\"f=\" , int (f))\n"
   ]
  },
  {
   "cell_type": "code",
   "execution_count": 9,
   "metadata": {},
   "outputs": [
    {
     "name": "stdout",
     "output_type": "stream",
     "text": [
      "please enter a number :5\n",
      "well, 5 is an odd number !\n"
     ]
    }
   ],
   "source": [
    "x = int (input(\"please enter a number :\"))\n",
    "if x%2 == 0 :\n",
    "    print (\"well,\" , x , \"is an even number! \")\n",
    "else :\n",
    "    print (\"well,\" , x , \"is an odd number !\")"
   ]
  }
 ],
 "metadata": {
  "kernelspec": {
   "display_name": "Python 3",
   "language": "python",
   "name": "python3"
  },
  "language_info": {
   "codemirror_mode": {
    "name": "ipython",
    "version": 3
   },
   "file_extension": ".py",
   "mimetype": "text/x-python",
   "name": "python",
   "nbconvert_exporter": "python",
   "pygments_lexer": "ipython3",
   "version": "3.7.4"
  }
 },
 "nbformat": 4,
 "nbformat_minor": 2
}
